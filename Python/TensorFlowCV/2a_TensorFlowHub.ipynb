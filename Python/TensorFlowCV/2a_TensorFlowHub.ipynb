{
  "cells": [
    {
      "cell_type": "markdown",
      "metadata": {
        "id": "Nkz5VftkGHH6"
      },
      "source": [
        "# Transfer Learning using TensorFlow Hub\n",
        "- Our model worked great for Fashion-MNIST, but sucked for CIFAR10\n",
        "- CIFAR10 is a lot more complex\n",
        "    - 3 color channels results in triple the amount of inputs\n",
        "    - Background imagery adds noise\n",
        "    - Not always centered\n",
        "- We need a model that can recognize spatial structures and patterns\n",
        "    - This info is lost if we flatten the input from the beginning\n",
        "- The [TensorFlow Hub](https://tfhub.dev) provides access to many pre-trained models\n",
        "    - Easy-to-use libraries and web API calls\n",
        "    - Saves time and resources\n",
        "- Transfer learning is made of 2 components\n",
        "    - Pretraining\n",
        "        - Training model from scratch\n",
        "        - Randomly initialized weights\n",
        "        - Trained on lots of images across many domains\n",
        "    - Fine-tuning\n",
        "- Benefits\n",
        "    - Faster development\n",
        "    - Less data needed to fine-tune\n",
        "    - Excellent results"
      ]
    },
    {
      "cell_type": "markdown",
      "metadata": {},
      "source": [
        "## Import Libraries"
      ]
    },
    {
      "cell_type": "code",
      "execution_count": null,
      "metadata": {
        "id": "j7FHh2yx-foQ"
      },
      "outputs": [],
      "source": [
        "import tensorflow as tf\n",
        "import tensorflow_hub as hub\n",
        "import numpy as np\n",
        "import matplotlib.pyplot as plt"
      ]
    },
    {
      "cell_type": "markdown",
      "metadata": {},
      "source": [
        "## Load Dataset\n",
        "- Here we fetch the flower dataset and save it."
      ]
    },
    {
      "cell_type": "code",
      "execution_count": null,
      "metadata": {
        "id": "NNiFmq9Z-q4T"
      },
      "outputs": [],
      "source": [
        "data_dir = tf.keras.utils.get_file(\n",
        "    'flower_photos',\n",
        "    'https://storage.googleapis.com/download.tensorflow.org/example_images/flower_photos.tgz',\n",
        "    untar=True\n",
        ")\n",
        "data_dir"
      ]
    },
    {
      "cell_type": "markdown",
      "metadata": {},
      "source": [
        "- Next we convert the images into dataset objects"
      ]
    },
    {
      "cell_type": "code",
      "execution_count": null,
      "metadata": {
        "colab": {
          "base_uri": "https://localhost:8080/"
        },
        "id": "3OEgg0rHAHd8",
        "outputId": "4ef7bb4b-5fb5-4192-a4f5-bbb7e09b0252"
      },
      "outputs": [],
      "source": [
        "IMG_HEIGHT = 224\n",
        "IMG_WIDTH = 224\n",
        "BATCH_SIZE = 128 \n",
        "\n",
        "train_ds = tf.keras.utils.image_dataset_from_directory(\n",
        "    str(data_dir),\n",
        "    validation_split=0.2,\n",
        "    subset='training',\n",
        "    seed=1,\n",
        "    image_size=(IMG_HEIGHT, IMG_WIDTH),\n",
        "    batch_size=BATCH_SIZE\n",
        ")\n",
        "\n",
        "val_ds = tf.keras.utils.image_dataset_from_directory(\n",
        "    str(data_dir),\n",
        "    validation_split=0.2,\n",
        "    subset='validation',\n",
        "    seed=1,\n",
        "    image_size=(IMG_HEIGHT, IMG_WIDTH),\n",
        "    batch_size=BATCH_SIZE\n",
        ")\n",
        "\n",
        "class_names = np.array(train_ds.class_names)\n",
        "class_names"
      ]
    },
    {
      "cell_type": "markdown",
      "metadata": {},
      "source": [
        "- We also need to normalize the pixels to a range of 0-1"
      ]
    },
    {
      "cell_type": "code",
      "execution_count": null,
      "metadata": {
        "id": "X-dyL_z0F9zJ"
      },
      "outputs": [],
      "source": [
        "normalization_layer = tf.keras.layers.Rescaling(1./255)\n",
        "train_ds = train_ds.map(lambda x, y: (normalization_layer(x), y)) \n",
        "val_ds = val_ds.map(lambda x, y: (normalization_layer(x), y)) "
      ]
    },
    {
      "cell_type": "markdown",
      "metadata": {},
      "source": [
        "- Autotune lets us dynamically fetch data\n",
        "- Model doesn't have to wait for all the data before starting\n",
        "    - Can start with initial data and continues to receive new data as it finishes processing current"
      ]
    },
    {
      "cell_type": "code",
      "execution_count": null,
      "metadata": {
        "colab": {
          "base_uri": "https://localhost:8080/"
        },
        "id": "PWuE_v74ImFL",
        "outputId": "74cb3b61-5295-4a49-8dbb-b48f619405c4"
      },
      "outputs": [],
      "source": [
        "AUTOTUNE = tf.data.AUTOTUNE\n",
        "train_ds = train_ds.cache().prefetch(buffer_size=AUTOTUNE)\n",
        "val_ds = val_ds.cache().prefetch(buffer_size=AUTOTUNE)\n",
        "\n",
        "for image_batch, labels_batch in train_ds:\n",
        "    print(image_batch.shape)\n",
        "    print(labels_batch.shape)\n",
        "    break"
      ]
    },
    {
      "cell_type": "markdown",
      "metadata": {
        "id": "YD20kpLKYx7c"
      },
      "source": [
        "## Using TensorFlow Hub"
      ]
    },
    {
      "cell_type": "markdown",
      "metadata": {},
      "source": [
        "### Load Pretrained Model"
      ]
    },
    {
      "cell_type": "code",
      "execution_count": null,
      "metadata": {
        "id": "kRoQmQoAbQ0G"
      },
      "outputs": [],
      "source": [
        "inception_v3 = 'https://tfhub.dev/google/imagenet/inception_v3/classification/5'\n",
        "IMAGE_SHAPE = (224, 224)\n",
        "\n",
        "hub_layer = hub.KerasLayer(inception_v3, input_shape=IMAGE_SHAPE + (3,))\n",
        "classifier = tf.keras.Sequential([\n",
        "    tf.keras.layers.Lambda(lambda x: hub_layer(x))\n",
        "])\n",
        "\n",
        "\n",
        "labels_path = tf.keras.utils.get_file('ImageNetLabels.txt','https://storage.googleapis.com/download.tensorflow.org/data/ImageNetLabels.txt')\n",
        "imagenet_labels = np.array(open(labels_path).read().splitlines())"
      ]
    },
    {
      "cell_type": "markdown",
      "metadata": {},
      "source": [
        "### Run Without Fine-Tuning"
      ]
    },
    {
      "cell_type": "code",
      "execution_count": null,
      "metadata": {
        "colab": {
          "base_uri": "https://localhost:8080/",
          "height": 585
        },
        "id": "EMPJ2pvwYfSO",
        "outputId": "58ee6cdc-df45-4a30-e074-17c112b532ee"
      },
      "outputs": [],
      "source": [
        "result_batch = classifier.predict(train_ds)\n",
        "predicted_class_names = imagenet_labels[tf.math.argmax(result_batch, axis=-1)]\n",
        "\n",
        "plt.figure(figsize=(10,9))\n",
        "plt.subplots_adjust(hspace=0.5)\n",
        "plt.suptitle('ImageNet predictions with no fine-tuning')\n",
        "for n in range(30):\n",
        "    plt.subplot(6,5,n+1)\n",
        "    plt.imshow(image_batch[n])\n",
        "    plt.title(predicted_class_names[n])\n",
        "    plt.axis('off')"
      ]
    },
    {
      "cell_type": "markdown",
      "metadata": {},
      "source": [
        "### Transfer Learning\n",
        "- We add a layer to the model with 5 classes\n",
        "- Corresponds to our flower dataset's classes\n",
        "    - Fully-connected layer"
      ]
    },
    {
      "cell_type": "code",
      "execution_count": null,
      "metadata": {
        "colab": {
          "base_uri": "https://localhost:8080/"
        },
        "id": "P5F4LAYtYfLD",
        "outputId": "04c9bc78-89f0-4e82-ccaf-0c30c343df75"
      },
      "outputs": [],
      "source": [
        "NUM_CLASSES = len(class_names)\n",
        "feature_extractor_model = inception_v3\n",
        "feature_extractor_layer = hub.KerasLayer(\n",
        "    feature_extractor_model,\n",
        "    input_shape=(224, 224, 3),\n",
        "    trainable=False\n",
        ")\n",
        "\n",
        "model = tf.keras.Sequential([\n",
        "    tf.keras.layers.Lambda(lambda x: feature_extractor_layer(x)),\n",
        "    tf.keras.layers.Dense(NUM_CLASSES)\n",
        "])\n",
        "\n",
        "model.summary()"
      ]
    },
    {
      "cell_type": "markdown",
      "metadata": {
        "id": "SxaK8migZW7p"
      },
      "source": [
        "## Training"
      ]
    },
    {
      "cell_type": "markdown",
      "metadata": {},
      "source": [
        "### Train Model"
      ]
    },
    {
      "cell_type": "code",
      "execution_count": null,
      "metadata": {
        "colab": {
          "base_uri": "https://localhost:8080/"
        },
        "id": "dxuwCpkZZYSP",
        "outputId": "a5325a21-a2c6-4ea7-adde-eaa518f750ba"
      },
      "outputs": [],
      "source": [
        "NUM_EPOCHS = 10\n",
        "\n",
        "model.compile(\n",
        "    optimizer=tf.keras.optimizers.Adam(),\n",
        "    loss=tf.keras.losses.SparseCategoricalCrossentropy(from_logits=True),\n",
        "    metrics=['acc']\n",
        ")\n",
        "\n",
        "history = model.fit(\n",
        "    train_ds,\n",
        "    validation_data=val_ds,\n",
        "    epochs=NUM_EPOCHS\n",
        ")\n",
        "\n",
        "history.history"
      ]
    },
    {
      "cell_type": "markdown",
      "metadata": {},
      "source": [
        "### View Loss/Accuracy\n",
        "- Loss decreases as we train\n",
        "- Accuracy increases"
      ]
    },
    {
      "cell_type": "code",
      "execution_count": null,
      "metadata": {
        "colab": {
          "base_uri": "https://localhost:8080/",
          "height": 421
        },
        "id": "LVRCsx-L1shO",
        "outputId": "f1cd1cf5-77c3-4f5d-9a8d-7615b20f718d"
      },
      "outputs": [],
      "source": [
        "acc = history['acc']\n",
        "val_acc = history['val_acc']\n",
        "loss = history['loss']\n",
        "val_loss = history['val_loss']\n",
        "\n",
        "epochs = range(1, len(acc) + 1)\n",
        "fig = plt.figure(figsize=(10, 6))\n",
        "fig.tight_layout()\n",
        "\n",
        "plt.subplot(2, 1, 1)\n",
        "plt.plot(epochs, loss, 'r', label='Training loss')\n",
        "plt.plot(epochs, val_loss, 'b', label='Validation loss')\n",
        "plt.title('Training and validation loss')\n",
        "plt.ylabel('Loss')\n",
        "plt.legend()\n",
        "\n",
        "plt.subplot(2, 1, 2)\n",
        "plt.plot(epochs, acc, 'r', label='Training acc')\n",
        "plt.plot(epochs, val_acc, 'b', label='Validation acc')\n",
        "plt.title('Training and validation accuracy')\n",
        "plt.xlabel('Epochs')\n",
        "plt.ylabel('Accuracy')\n",
        "plt.legend(loc='lower right');"
      ]
    },
    {
      "cell_type": "markdown",
      "metadata": {
        "id": "yz2qe_cwZi74"
      },
      "source": [
        "## Predict"
      ]
    },
    {
      "cell_type": "markdown",
      "metadata": {},
      "source": [
        "### Create Batch\n",
        "- We can see that this batch has 128 images\n",
        "- 5 columns corresponding to each of the classes"
      ]
    },
    {
      "cell_type": "code",
      "execution_count": null,
      "metadata": {
        "colab": {
          "base_uri": "https://localhost:8080/"
        },
        "id": "RpXGKQQ3BtrI",
        "outputId": "9d6ffdb2-419b-4189-943c-fc745769ae76"
      },
      "outputs": [],
      "source": [
        "image_batch, labels = next(iter(val_ds))\n",
        "\n",
        "predicted_batch = model.predict(image_batch)\n",
        "print('Batch shape:', predicted_batch.shape)\n",
        "print('Classes:', class_names)"
      ]
    },
    {
      "cell_type": "markdown",
      "metadata": {},
      "source": [
        "### Make Predictions\n",
        "- We use `argmax` to get the column with the highest score"
      ]
    },
    {
      "cell_type": "code",
      "execution_count": null,
      "metadata": {
        "colab": {
          "base_uri": "https://localhost:8080/",
          "height": 585
        },
        "id": "-LRgMr2f8f8U",
        "outputId": "4156f6ee-7ac7-42e5-89ef-aef06c48db54"
      },
      "outputs": [],
      "source": [
        "predicted_id = tf.math.argmax(predicted_batch, axis=-1)\n",
        "predicted_label_batch = class_names[predicted_id]\n",
        "\n",
        "plt.figure(figsize=(10,9))\n",
        "plt.subplots_adjust(hspace=0.5)\n",
        "plt.suptitle('Model predictions')\n",
        "for n in range(30):\n",
        "    plt.subplot(6,5,n+1)\n",
        "    plt.imshow(image_batch[n])\n",
        "    plt.title(predicted_label_batch[n].title())\n",
        "    plt.axis('off')"
      ]
    }
  ],
  "metadata": {
    "accelerator": "GPU",
    "colab": {
      "collapsed_sections": [],
      "name": "TF2_0 Transfer Learning.ipynb",
      "provenance": []
    },
    "kernelspec": {
      "display_name": "venv",
      "language": "python",
      "name": "python3"
    },
    "language_info": {
      "codemirror_mode": {
        "name": "ipython",
        "version": 3
      },
      "file_extension": ".py",
      "mimetype": "text/x-python",
      "name": "python",
      "nbconvert_exporter": "python",
      "pygments_lexer": "ipython3",
      "version": "3.11.6"
    }
  },
  "nbformat": 4,
  "nbformat_minor": 0
}
