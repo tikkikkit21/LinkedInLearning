{
 "cells": [
  {
   "cell_type": "markdown",
   "id": "515bd0f1",
   "metadata": {},
   "source": [
    "# Sentiment Analysis"
   ]
  },
  {
   "cell_type": "markdown",
   "id": "d0917cc2",
   "metadata": {},
   "source": [
    "## Import Libraries"
   ]
  },
  {
   "cell_type": "code",
   "execution_count": 5,
   "id": "9bb4eba0",
   "metadata": {},
   "outputs": [],
   "source": [
    "import nltk\n",
    "\n",
    "# simple analyzer\n",
    "from nltk.sentiment import SentimentIntensityAnalyzer\n",
    "\n",
    "# advanced analyzer\n",
    "from nltk.corpus import movie_reviews\n",
    "from nltk.classify import NaiveBayesClassifier\n",
    "from nltk.classify.util import accuracy\n",
    "import random"
   ]
  },
  {
   "cell_type": "markdown",
   "id": "23764ab8",
   "metadata": {},
   "source": [
    "## Simple Analyzer\n",
    "- This example uses an existing pre-trained model from NLTK\n",
    "- `vader_lexicon` labels words as positive or negative\n",
    "- `sia` uses the Vader lexicon and calculates a total polarity score for the text"
   ]
  },
  {
   "cell_type": "code",
   "execution_count": 6,
   "id": "713d1223",
   "metadata": {},
   "outputs": [
    {
     "name": "stdout",
     "output_type": "stream",
     "text": [
      "{'neg': 0.0, 'neu': 0.465, 'pos': 0.535, 'compound': 0.784}\n"
     ]
    },
    {
     "name": "stderr",
     "output_type": "stream",
     "text": [
      "[nltk_data] Downloading package vader_lexicon to\n",
      "[nltk_data]     C:\\Users\\Me\\AppData\\Roaming\\nltk_data...\n",
      "[nltk_data]   Package vader_lexicon is already up-to-date!\n"
     ]
    }
   ],
   "source": [
    "nltk.download('vader_lexicon')\n",
    "\n",
    "def analyze_sentiment(text):\n",
    "    sia = SentimentIntensityAnalyzer()\n",
    "    sentiment = sia.polarity_scores(text)\n",
    "    print(sentiment)\n",
    "\n",
    "analyze_sentiment('NLTK is a great library for Natural Language Processing!')"
   ]
  },
  {
   "cell_type": "markdown",
   "id": "a667f413",
   "metadata": {},
   "source": [
    "- `neg` is negative score\n",
    "- `neu` is neutral score\n",
    "- `pos` is positive score\n",
    "- `compound` is the net score for the whole text"
   ]
  },
  {
   "cell_type": "markdown",
   "id": "e48653ac",
   "metadata": {},
   "source": [
    "## Advanced Analyzer"
   ]
  },
  {
   "cell_type": "markdown",
   "id": "807da321",
   "metadata": {},
   "source": [
    "### Preprocess Dataset\n",
    "- Cons to using pre-trained model\n",
    "    - Can be biased\n",
    "    - May be computationally expensive to train and use\n",
    "    - May not be well-suited to the domain of the task\n",
    "- We can create our own analyzer\n",
    "- We use NLTK's `movie_reviews` dataset\n",
    "- Then we create a list of document tuples\n",
    "    - List of words\n",
    "    - Category\n",
    "- Finally, we shuffle the documents to limit bias"
   ]
  },
  {
   "cell_type": "code",
   "execution_count": 7,
   "id": "fdb52c8e",
   "metadata": {},
   "outputs": [
    {
     "name": "stderr",
     "output_type": "stream",
     "text": [
      "[nltk_data] Downloading package movie_reviews to\n",
      "[nltk_data]     C:\\Users\\Me\\AppData\\Roaming\\nltk_data...\n",
      "[nltk_data]   Unzipping corpora\\movie_reviews.zip.\n"
     ]
    }
   ],
   "source": [
    "nltk.download('movie_reviews')\n",
    "\n",
    "documents = [\n",
    "    (list(movie_reviews.words(file_id)), category)\n",
    "    for category in movie_reviews.categories()\n",
    "    for file_id in movie_reviews.fileids(category)\n",
    "]\n",
    "\n",
    "random.shuffle(documents)"
   ]
  },
  {
   "cell_type": "markdown",
   "id": "a524dc41",
   "metadata": {},
   "source": [
    "### Feature Extractor\n",
    "- We find the 2,000 most common words among all the movie reviews\n",
    "- To extract features, we indicate if that word is in the corpus or not"
   ]
  },
  {
   "cell_type": "code",
   "execution_count": 8,
   "id": "cf143b73",
   "metadata": {},
   "outputs": [],
   "source": [
    "all_words = nltk.FreqDist(w.lower() for w in movie_reviews.words())\n",
    "word_features = list(all_words)[:2000]\n",
    "\n",
    "def document_features(document):\n",
    "    document_words = set(document)\n",
    "    features = {}\n",
    "    for word in word_features:\n",
    "        features['contains({})'.format(word)] = (word in document_words)\n",
    "    return features\n"
   ]
  },
  {
   "cell_type": "markdown",
   "id": "929cb734",
   "metadata": {},
   "source": [
    "### Train Classifier"
   ]
  },
  {
   "cell_type": "code",
   "execution_count": 9,
   "id": "a4d638d1",
   "metadata": {},
   "outputs": [],
   "source": [
    "feature_sets = [(document_features(d), c) for (d,c) in documents]\n",
    "train_set, test_set = feature_sets[100:], feature_sets[:100]\n",
    "classifier = NaiveBayesClassifier.train(train_set)"
   ]
  },
  {
   "cell_type": "markdown",
   "id": "048d1a15",
   "metadata": {},
   "source": [
    "### Evaluate Classifier\n",
    "- Print the final accuracy\n",
    "- Show top 5 most important features"
   ]
  },
  {
   "cell_type": "code",
   "execution_count": 10,
   "id": "70bafc1e",
   "metadata": {},
   "outputs": [
    {
     "name": "stdout",
     "output_type": "stream",
     "text": [
      "0.82\n",
      "Most Informative Features\n",
      "   contains(outstanding) = True              pos : neg    =     11.1 : 1.0\n",
      "        contains(seagal) = True              neg : pos    =      7.4 : 1.0\n",
      "   contains(wonderfully) = True              pos : neg    =      7.3 : 1.0\n",
      "         contains(mulan) = True              pos : neg    =      7.0 : 1.0\n",
      "         contains(damon) = True              pos : neg    =      5.9 : 1.0\n"
     ]
    }
   ],
   "source": [
    "print(accuracy(classifier, test_set))\n",
    "classifier.show_most_informative_features(5)"
   ]
  },
  {
   "cell_type": "markdown",
   "id": "321abd56",
   "metadata": {},
   "source": [
    "- The word `outstanding` indicates a high chance that the sentence is positive\n",
    "- On the other hand, `seagal` most likely indicates a negative sentence "
   ]
  }
 ],
 "metadata": {
  "kernelspec": {
   "display_name": "venv",
   "language": "python",
   "name": "python3"
  },
  "language_info": {
   "codemirror_mode": {
    "name": "ipython",
    "version": 3
   },
   "file_extension": ".py",
   "mimetype": "text/x-python",
   "name": "python",
   "nbconvert_exporter": "python",
   "pygments_lexer": "ipython3",
   "version": "3.11.6"
  }
 },
 "nbformat": 4,
 "nbformat_minor": 5
}
