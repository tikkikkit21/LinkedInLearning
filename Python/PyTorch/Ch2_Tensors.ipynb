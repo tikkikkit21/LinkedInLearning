{
  "cells": [
    {
      "cell_type": "markdown",
      "id": "771dbafa",
      "metadata": {
        "id": "771dbafa"
      },
      "source": [
        "# Ch2: Tensors\n",
        "- NN expects data to be stored as floating-point numbers\n",
        "- However, real-world data like images and text aren't numerical\n",
        "- `PyTorch` uses <span style=\"background-color: yellow\">tensors</span> as its data structure to store data\n",
        "    - Inputs, intermediate representatoins, and outputs\n",
        "- Tensors can have arbitrary number of dimensions\n",
        "    - Scalar is 0-d tensor\n",
        "    - Vector is 1-d\n",
        "    - Matrix is 2-d\n",
        "    - ... etc.\n",
        "- Similar to NumPy's `ndarray`\n",
        "    - Stores a single data type\n",
        "    - Fixed-length\n",
        "- Advantages over `ndarray`\n",
        "    - Optimized for GPU calculations\n",
        "    - Can be used for distributed processing via multiple CPUs/GPUs\n",
        "    - Tracks graph of computations that created them"
      ]
    },
    {
      "cell_type": "code",
      "execution_count": 9,
      "id": "c405b7be",
      "metadata": {
        "colab": {
          "base_uri": "https://localhost:8080/"
        },
        "id": "c405b7be",
        "outputId": "e389bdd9-dfda-4317-d1b8-63b2a143d18f"
      },
      "outputs": [
        {
          "output_type": "stream",
          "name": "stdout",
          "text": [
            "2.6.0+cu124\n"
          ]
        }
      ],
      "source": [
        "import torch\n",
        "print(torch.__version__)"
      ]
    },
    {
      "cell_type": "markdown",
      "id": "4693ab41",
      "metadata": {
        "id": "4693ab41"
      },
      "source": [
        "## Creating a Tensor (CPU)"
      ]
    },
    {
      "cell_type": "code",
      "execution_count": 10,
      "id": "6096ad48",
      "metadata": {
        "colab": {
          "base_uri": "https://localhost:8080/"
        },
        "id": "6096ad48",
        "outputId": "6aea5c59-96e5-41ee-d4f1-d2a38db89f4d"
      },
      "outputs": [
        {
          "output_type": "stream",
          "name": "stdout",
          "text": [
            "tensor([[13, 12, 14, 13],\n",
            "        [18, 21, 21, 24]])\n",
            "torch.Size([2, 4])\n"
          ]
        }
      ],
      "source": [
        "tensor1 = torch.tensor([[12,10,11,9],[13,15,14,16]])\n",
        "tensor2 = torch.tensor([[1,2,3,4],[5,6,7,8]])\n",
        "\n",
        "tensor_sum = tensor1 + tensor2\n",
        "\n",
        "print(tensor_sum)\n",
        "print(tensor_sum.size())"
      ]
    },
    {
      "cell_type": "markdown",
      "id": "62d32bdc",
      "metadata": {
        "id": "62d32bdc"
      },
      "source": [
        "## Creating a Tensor (GPU)\n",
        "We can use the GPU as a much faster hardware choice compared to CPU."
      ]
    },
    {
      "cell_type": "code",
      "execution_count": 11,
      "id": "da3af724",
      "metadata": {
        "colab": {
          "base_uri": "https://localhost:8080/"
        },
        "id": "da3af724",
        "outputId": "54a464cb-437d-4122-ed1b-1005083ad5ec"
      },
      "outputs": [
        {
          "output_type": "stream",
          "name": "stdout",
          "text": [
            "device: cuda\n",
            "tensor([[180, 209, 240, 273],\n",
            "        [308, 345, 384, 425]], device='cuda:0')\n"
          ]
        }
      ],
      "source": [
        "device = 'cuda' if torch.cuda.is_available() else 'cpu'\n",
        "print('device:', device)\n",
        "\n",
        "tens_a = torch.tensor([[10,11,12,13],[14,15,16,17]],device=device)\n",
        "tens_b = torch.tensor([[18,19,20,21],[22,23,24,25]],device=device)\n",
        "\n",
        "multi_tens = tens_a * tens_b\n",
        "\n",
        "print(multi_tens)"
      ]
    },
    {
      "cell_type": "markdown",
      "source": [
        "Note that we get `cuda:0` as the device. The `0` indicates that the first GPU is being used since we have multiple GPUs."
      ],
      "metadata": {
        "id": "hNuAwAQ7YIS8"
      },
      "id": "hNuAwAQ7YIS8"
    },
    {
      "cell_type": "markdown",
      "source": [
        "## Move Tensors between CPU/GPU\n",
        "- By default, all PyTorch data is stored in the CPU\n",
        "    - We want to move them to the GPU for faster processing\n",
        "    - The output data will also be stored in GPU\n",
        "- However, we sometimes need to process the output data as well\n",
        "- Some preprocessing libraries expect only `ndarray`s and don't support tensors\n",
        "    - `ndarray`s don't support GPU\n",
        "    - Therefore we need to move the output data back into the CPU\n",
        "- 3 ways to move from CPU -> GPU\n",
        "    - `tensor.cuda()`\n",
        "    - `tensor.to('cuda')`\n",
        "    - `tensor.to('cuda:0)`\n",
        "- 2 ways to move from GPU -> CPU\n",
        "    - If `required_grad=False`: `tensor.cpu()`\n",
        "    - Else `tensor.detatch().cpu()`"
      ],
      "metadata": {
        "id": "KkLg7dT4X_Ef"
      },
      "id": "KkLg7dT4X_Ef"
    },
    {
      "cell_type": "code",
      "source": [
        "# initial tensor in the CPU\n",
        "x = torch.tensor([5,10,15,10,25])\n",
        "print('Tensor (CPU):', x)\n",
        "print('Tensor device:', x.device)\n",
        "\n",
        "# move to GPU\n",
        "if torch.cuda.is_available():\n",
        "   x = x.to(\"cuda:0\")\n",
        "else:\n",
        "    print('GPU not available')\n",
        "\n",
        "print('Tensor (GPU):', x)\n",
        "print('Tensor device:', x.device)"
      ],
      "metadata": {
        "colab": {
          "base_uri": "https://localhost:8080/"
        },
        "id": "0ItuR0fZYznY",
        "outputId": "add3fcb2-e644-40f8-99db-b12c443a9d01"
      },
      "id": "0ItuR0fZYznY",
      "execution_count": 12,
      "outputs": [
        {
          "output_type": "stream",
          "name": "stdout",
          "text": [
            "Tensor (CPU): tensor([ 5, 10, 15, 10, 25])\n",
            "Tensor device: cpu\n",
            "Tensor (GPU): tensor([ 5, 10, 15, 10, 25], device='cuda:0')\n",
            "Tensor device: cuda:0\n"
          ]
        }
      ]
    }
  ],
  "metadata": {
    "kernelspec": {
      "display_name": "Python 3",
      "name": "python3"
    },
    "language_info": {
      "codemirror_mode": {
        "name": "ipython",
        "version": 3
      },
      "file_extension": ".py",
      "mimetype": "text/x-python",
      "name": "python",
      "nbconvert_exporter": "python",
      "pygments_lexer": "ipython3",
      "version": "3.11.6"
    },
    "colab": {
      "provenance": [],
      "gpuType": "T4"
    },
    "accelerator": "GPU"
  },
  "nbformat": 4,
  "nbformat_minor": 5
}