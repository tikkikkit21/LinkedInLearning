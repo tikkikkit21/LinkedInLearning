{
  "nbformat": 4,
  "nbformat_minor": 0,
  "metadata": {
    "colab": {
      "provenance": [],
      "gpuType": "T4"
    },
    "kernelspec": {
      "name": "python3",
      "display_name": "Python 3"
    },
    "language_info": {
      "name": "python"
    },
    "accelerator": "GPU"
  },
  "cells": [
    {
      "cell_type": "markdown",
      "source": [
        "# Ch3: Creating Tensors"
      ],
      "metadata": {
        "id": "z3lAUkHUaP_B"
      }
    },
    {
      "cell_type": "code",
      "source": [
        "import torch\n",
        "import numpy as np\n",
        "print(torch.__version__)"
      ],
      "metadata": {
        "colab": {
          "base_uri": "https://localhost:8080/"
        },
        "id": "N-FJxNfOaWv2",
        "outputId": "a2235b63-b3e5-42ef-f06c-f4af385dd2b5"
      },
      "execution_count": 50,
      "outputs": [
        {
          "output_type": "stream",
          "name": "stdout",
          "text": [
            "2.6.0+cu124\n"
          ]
        }
      ]
    },
    {
      "cell_type": "markdown",
      "source": [
        "## Create Tensors\n",
        "We can create tensors from existing data structures, such as:\n",
        "- lists\n",
        "- tuples\n",
        "- NumPy arrays"
      ],
      "metadata": {
        "id": "GZjAuVdUasjt"
      }
    },
    {
      "cell_type": "code",
      "source": [
        "tensor_from_list=torch.tensor([1,2,3,4,5])\n",
        "tensor_from_list"
      ],
      "metadata": {
        "colab": {
          "base_uri": "https://localhost:8080/"
        },
        "id": "H4eBGLOka2pq",
        "outputId": "8c2eb540-9826-478f-9c04-d73613ce3010"
      },
      "execution_count": 51,
      "outputs": [
        {
          "output_type": "execute_result",
          "data": {
            "text/plain": [
              "tensor([1, 2, 3, 4, 5])"
            ]
          },
          "metadata": {},
          "execution_count": 51
        }
      ]
    },
    {
      "cell_type": "code",
      "source": [
        "tensor_from_tuple=torch.tensor((6,7,8,9,10))\n",
        "tensor_from_tuple"
      ],
      "metadata": {
        "colab": {
          "base_uri": "https://localhost:8080/"
        },
        "id": "f2U_NpaLIj8x",
        "outputId": "f7ad8e31-31fc-47bb-f3a0-f2b5dfd9e0a4"
      },
      "execution_count": 52,
      "outputs": [
        {
          "output_type": "execute_result",
          "data": {
            "text/plain": [
              "tensor([ 6,  7,  8,  9, 10])"
            ]
          },
          "metadata": {},
          "execution_count": 52
        }
      ]
    },
    {
      "cell_type": "code",
      "source": [
        "tensor_from_array=torch.tensor(np.array([11,12,13,14,15]))\n",
        "tensor_from_array"
      ],
      "metadata": {
        "colab": {
          "base_uri": "https://localhost:8080/"
        },
        "id": "l364b8blIj_R",
        "outputId": "7f0be496-c006-4a8b-e047-f10a856140c0"
      },
      "execution_count": 53,
      "outputs": [
        {
          "output_type": "execute_result",
          "data": {
            "text/plain": [
              "tensor([11, 12, 13, 14, 15])"
            ]
          },
          "metadata": {},
          "execution_count": 53
        }
      ]
    },
    {
      "cell_type": "markdown",
      "source": [
        "We can also have `torch` create tensors with initial values. In this case, we specify the dimensions of the tensor."
      ],
      "metadata": {
        "id": "MXrUh6cWcXgM"
      }
    },
    {
      "cell_type": "code",
      "source": [
        "tensor_empty = torch.empty(3,4)\n",
        "tensor_empty"
      ],
      "metadata": {
        "colab": {
          "base_uri": "https://localhost:8080/"
        },
        "id": "g64wJsM9bR6k",
        "outputId": "e321668e-e534-43e0-e241-564f82f3e89d"
      },
      "execution_count": 54,
      "outputs": [
        {
          "output_type": "execute_result",
          "data": {
            "text/plain": [
              "tensor([[5.9728e+03, 4.5856e-41, 5.9728e+03, 4.5856e-41],\n",
              "        [5.9727e+03, 4.5856e-41, 5.9727e+03, 4.5856e-41],\n",
              "        [5.9727e+03, 4.5856e-41, 5.9727e+03, 4.5856e-41]])"
            ]
          },
          "metadata": {},
          "execution_count": 54
        }
      ]
    },
    {
      "cell_type": "code",
      "source": [
        "tensor_zeros = torch.zeros(3,4)\n",
        "tensor_zeros"
      ],
      "metadata": {
        "colab": {
          "base_uri": "https://localhost:8080/"
        },
        "id": "PnxKqOspIt28",
        "outputId": "c5fb76e0-2119-4f2e-dec5-0e95882f331f"
      },
      "execution_count": 55,
      "outputs": [
        {
          "output_type": "execute_result",
          "data": {
            "text/plain": [
              "tensor([[0., 0., 0., 0.],\n",
              "        [0., 0., 0., 0.],\n",
              "        [0., 0., 0., 0.]])"
            ]
          },
          "metadata": {},
          "execution_count": 55
        }
      ]
    },
    {
      "cell_type": "code",
      "source": [
        "tensor_ones= torch.ones(3,4)\n",
        "tensor_ones"
      ],
      "metadata": {
        "colab": {
          "base_uri": "https://localhost:8080/"
        },
        "id": "7Kdx8whpIt5I",
        "outputId": "088d4ff2-6d68-4ce3-ff4b-9086e930e33e"
      },
      "execution_count": 56,
      "outputs": [
        {
          "output_type": "execute_result",
          "data": {
            "text/plain": [
              "tensor([[1., 1., 1., 1.],\n",
              "        [1., 1., 1., 1.],\n",
              "        [1., 1., 1., 1.]])"
            ]
          },
          "metadata": {},
          "execution_count": 56
        }
      ]
    },
    {
      "cell_type": "markdown",
      "source": [
        "Random values is also possible."
      ],
      "metadata": {
        "id": "phWVYkR8cghv"
      }
    },
    {
      "cell_type": "code",
      "source": [
        "# random numbers, uniform distr\n",
        "tensor_rand_un = torch.rand(4,5)\n",
        "tensor_rand_un"
      ],
      "metadata": {
        "colab": {
          "base_uri": "https://localhost:8080/"
        },
        "id": "ZfKrYSMEbiqF",
        "outputId": "fa032cb4-5061-4762-f7b2-f50feb3d9594"
      },
      "execution_count": 57,
      "outputs": [
        {
          "output_type": "execute_result",
          "data": {
            "text/plain": [
              "tensor([[2.1382e-02, 3.6643e-01, 2.0535e-01, 1.9226e-01, 3.5434e-01],\n",
              "        [2.1795e-01, 1.0574e-04, 1.4056e-01, 6.0028e-01, 5.6578e-01],\n",
              "        [9.4895e-02, 9.6953e-02, 3.7144e-01, 2.6844e-02, 1.9478e-01],\n",
              "        [7.8418e-01, 5.8637e-01, 1.7138e-01, 1.0558e-01, 8.1767e-01]])"
            ]
          },
          "metadata": {},
          "execution_count": 57
        }
      ]
    },
    {
      "cell_type": "code",
      "source": [
        "# random numbers, normal distr\n",
        "tensor_rand_norm = torch.randn(4,5)\n",
        "tensor_rand_norm"
      ],
      "metadata": {
        "colab": {
          "base_uri": "https://localhost:8080/"
        },
        "id": "ObgJzV2SI3-e",
        "outputId": "7e4c1095-66b2-4a55-c1b0-6e476ad30844"
      },
      "execution_count": 58,
      "outputs": [
        {
          "output_type": "execute_result",
          "data": {
            "text/plain": [
              "tensor([[-0.1851, -0.4297,  0.1519, -0.1700,  0.9553],\n",
              "        [ 1.0025,  1.0673,  0.2567,  0.2639,  0.4833],\n",
              "        [-1.5303,  0.4898, -1.6568,  2.4467, -0.9278],\n",
              "        [ 0.7583, -0.4860,  1.0937,  1.0298,  0.2926]])"
            ]
          },
          "metadata": {},
          "execution_count": 58
        }
      ]
    },
    {
      "cell_type": "code",
      "source": [
        "# random ints, uniform distr\n",
        "tensor_rand_int = torch.randint(5,10,(4,5))\n",
        "tensor_rand_int"
      ],
      "metadata": {
        "colab": {
          "base_uri": "https://localhost:8080/"
        },
        "id": "yX2l9QVEI4Am",
        "outputId": "0d71d404-845a-4d06-da08-d7b72542cd74"
      },
      "execution_count": 59,
      "outputs": [
        {
          "output_type": "execute_result",
          "data": {
            "text/plain": [
              "tensor([[8, 5, 5, 9, 9],\n",
              "        [6, 5, 8, 6, 9],\n",
              "        [5, 6, 8, 7, 5],\n",
              "        [8, 9, 6, 6, 8]])"
            ]
          },
          "metadata": {},
          "execution_count": 59
        }
      ]
    },
    {
      "cell_type": "markdown",
      "source": [
        "Finally, we can pass in a tensor as the parameter if we want to have the same data type, device, and dimension as the parameter."
      ],
      "metadata": {
        "id": "x0cka14cckCR"
      }
    },
    {
      "cell_type": "code",
      "source": [
        "tensor_ones = torch.ones_like(tensor_rand_int)\n",
        "tensor_ones"
      ],
      "metadata": {
        "colab": {
          "base_uri": "https://localhost:8080/"
        },
        "id": "QjVAdmmudQxV",
        "outputId": "041ace13-e214-4120-ac72-b81f9cf561c2"
      },
      "execution_count": 60,
      "outputs": [
        {
          "output_type": "execute_result",
          "data": {
            "text/plain": [
              "tensor([[1, 1, 1, 1, 1],\n",
              "        [1, 1, 1, 1, 1],\n",
              "        [1, 1, 1, 1, 1],\n",
              "        [1, 1, 1, 1, 1]])"
            ]
          },
          "metadata": {},
          "execution_count": 60
        }
      ]
    },
    {
      "cell_type": "markdown",
      "source": [
        "## Tensor Attributes\n",
        "It's important to know the attributes of a tensor, such as:\n",
        "- device location\n",
        "- data type\n",
        "- dimensions\n",
        "- rank"
      ],
      "metadata": {
        "id": "TV14M0vTdZpn"
      }
    },
    {
      "cell_type": "code",
      "source": [
        "first_tensor = torch.tensor([1,2,3,4,5,6])\n",
        "print('device:', first_tensor.device)\n",
        "print('dtype:', first_tensor.dtype)\n",
        "print('dimensions:', first_tensor.shape)\n",
        "print('rank:', first_tensor.ndim)"
      ],
      "metadata": {
        "colab": {
          "base_uri": "https://localhost:8080/"
        },
        "id": "C8_2nd82dyo-",
        "outputId": "6c2f51c0-40d5-4393-c199-13053c1037b5"
      },
      "execution_count": 61,
      "outputs": [
        {
          "output_type": "stream",
          "name": "stdout",
          "text": [
            "device: cpu\n",
            "dtype: torch.int64\n",
            "dimensions: torch.Size([6])\n",
            "rank: 1\n"
          ]
        }
      ]
    },
    {
      "cell_type": "code",
      "source": [
        "second_tensor = torch.tensor([[1,2,3],[4,5,6],[7,8,9]])\n",
        "print('device:', second_tensor.device)\n",
        "print('dtype:', second_tensor.dtype)\n",
        "print('dimensions:', second_tensor.shape)\n",
        "print('rank:', second_tensor.ndim)"
      ],
      "metadata": {
        "colab": {
          "base_uri": "https://localhost:8080/"
        },
        "id": "bRyDKGm-eAz7",
        "outputId": "46180393-00c2-48bb-ced0-26cdcfe2945d"
      },
      "execution_count": 62,
      "outputs": [
        {
          "output_type": "stream",
          "name": "stdout",
          "text": [
            "device: cpu\n",
            "dtype: torch.int64\n",
            "dimensions: torch.Size([3, 3])\n",
            "rank: 2\n"
          ]
        }
      ]
    },
    {
      "cell_type": "markdown",
      "source": [
        "## Tensor Data Types\n",
        "When creating a tensor, we can explicitly set the data type with the `dtype` parameter."
      ],
      "metadata": {
        "id": "9MF96gdSeGr9"
      }
    },
    {
      "cell_type": "code",
      "source": [
        "int_tensor= torch.tensor([1,2,3,4,5],dtype=torch.int8)\n",
        "float_tensor= torch.tensor([6,7,8,9,10], dtype=torch.float32)\n",
        "short_tensor= torch.tensor([6,7,8,9,10], dtype=torch.int16)"
      ],
      "metadata": {
        "id": "lfa8gNlveH_i"
      },
      "execution_count": 63,
      "outputs": []
    },
    {
      "cell_type": "markdown",
      "source": [
        "We can also cast tensors between compatible data types."
      ],
      "metadata": {
        "id": "iDHmQ2HnFNeK"
      }
    },
    {
      "cell_type": "code",
      "source": [
        "# method 1: tensor.dtype()\n",
        "print('before:', int_tensor.dtype)\n",
        "int_tensor = int_tensor.float()\n",
        "print('after:', int_tensor.dtype)"
      ],
      "metadata": {
        "colab": {
          "base_uri": "https://localhost:8080/"
        },
        "id": "aZ8w45nyFiPr",
        "outputId": "46aadea7-ddf5-4660-8cde-c550fff47959"
      },
      "execution_count": 64,
      "outputs": [
        {
          "output_type": "stream",
          "name": "stdout",
          "text": [
            "before: torch.int8\n",
            "after: torch.float32\n"
          ]
        }
      ]
    },
    {
      "cell_type": "code",
      "source": [
        "# method 2: tensor.to(dtype=)\n",
        "print('before:', short_tensor.dtype)\n",
        "last_tensor = short_tensor.to(dtype=torch.int8)\n",
        "print('after:', last_tensor.dtype)"
      ],
      "metadata": {
        "colab": {
          "base_uri": "https://localhost:8080/"
        },
        "id": "vxGtspWRFpqo",
        "outputId": "7a96baab-f4c3-4555-b826-bba569e18b21"
      },
      "execution_count": 65,
      "outputs": [
        {
          "output_type": "stream",
          "name": "stdout",
          "text": [
            "before: torch.int16\n",
            "after: torch.int8\n"
          ]
        }
      ]
    },
    {
      "cell_type": "markdown",
      "source": [
        "When working with different data types, PyTorch will automatically cast types to the larger data type."
      ],
      "metadata": {
        "id": "kFv0uyIgF6OS"
      }
    },
    {
      "cell_type": "markdown",
      "source": [
        "## Random Samples\n",
        "- `torch.rand()` gets random values from uniform distribution [0,1]\n",
        "- `torch.randn()` gets random values from standard normal distribution (mean 0, std 1)\n",
        "- `torch.randint()` gets random ints generated uniformly between specified low and high values\n",
        "\n",
        "Note that we use `torch.manual_seed()` for seeding the randomness. We have to put it at the top of every cell in order to make each run consistent."
      ],
      "metadata": {
        "id": "kVmtP-J9GAI2"
      }
    },
    {
      "cell_type": "code",
      "source": [
        "torch.manual_seed(17)\n",
        "\n",
        "rand = torch.rand(3)\n",
        "rand"
      ],
      "metadata": {
        "colab": {
          "base_uri": "https://localhost:8080/"
        },
        "id": "OTjRFSREGsst",
        "outputId": "f1449010-2792-4526-addd-15b5f6237075"
      },
      "execution_count": 66,
      "outputs": [
        {
          "output_type": "execute_result",
          "data": {
            "text/plain": [
              "tensor([0.4342, 0.5351, 0.8302])"
            ]
          },
          "metadata": {},
          "execution_count": 66
        }
      ]
    },
    {
      "cell_type": "code",
      "source": [
        "torch.manual_seed(17)\n",
        "\n",
        "randn = torch.randn(3,3)\n",
        "randn"
      ],
      "metadata": {
        "colab": {
          "base_uri": "https://localhost:8080/"
        },
        "id": "dya3jGV4JDTJ",
        "outputId": "5010dfd3-5597-48de-a8a3-e4cc15e829eb"
      },
      "execution_count": 67,
      "outputs": [
        {
          "output_type": "execute_result",
          "data": {
            "text/plain": [
              "tensor([[-1.4135,  0.2336,  0.0340],\n",
              "        [ 0.3499, -0.0145, -0.6124],\n",
              "        [-1.1835, -1.4831,  1.8004]])"
            ]
          },
          "metadata": {},
          "execution_count": 67
        }
      ]
    },
    {
      "cell_type": "code",
      "source": [
        "torch.manual_seed(17)\n",
        "\n",
        "randint = torch.randint(1,10,(3,3,3))\n",
        "randint"
      ],
      "metadata": {
        "colab": {
          "base_uri": "https://localhost:8080/"
        },
        "id": "zVsrE3M5JDVi",
        "outputId": "2dc07b6c-d93c-4e01-8c10-4c8593f215c6"
      },
      "execution_count": 68,
      "outputs": [
        {
          "output_type": "execute_result",
          "data": {
            "text/plain": [
              "tensor([[[7, 7, 3],\n",
              "         [5, 9, 8],\n",
              "         [1, 8, 4]],\n",
              "\n",
              "        [[7, 9, 2],\n",
              "         [6, 9, 1],\n",
              "         [3, 3, 6]],\n",
              "\n",
              "        [[2, 7, 1],\n",
              "         [8, 9, 1],\n",
              "         [6, 7, 5]]])"
            ]
          },
          "metadata": {},
          "execution_count": 68
        }
      ]
    },
    {
      "cell_type": "markdown",
      "source": [
        "We can still specify parameters like `dtype` or `device` when creating with random sampling."
      ],
      "metadata": {
        "id": "MgwYy8-5HQky"
      }
    },
    {
      "cell_type": "markdown",
      "source": [
        "## Tensors Like Other Tensors\n",
        "We can create tensors that share similar properties to another one. PyTorch functions will reuse the same name as other methods we've learned, but with the `_like` suffix (ex: `torch.rand_like()`)."
      ],
      "metadata": {
        "id": "PyOoLYBbHVh8"
      }
    },
    {
      "cell_type": "code",
      "source": [
        "starting_tensor = torch.zeros(2,5)\n",
        "starting_tensor"
      ],
      "metadata": {
        "colab": {
          "base_uri": "https://localhost:8080/"
        },
        "id": "A-lnxr-8HtbR",
        "outputId": "d9bb83d5-5b80-40a9-d180-223a5e76cec8"
      },
      "execution_count": 69,
      "outputs": [
        {
          "output_type": "execute_result",
          "data": {
            "text/plain": [
              "tensor([[0., 0., 0., 0., 0.],\n",
              "        [0., 0., 0., 0., 0.]])"
            ]
          },
          "metadata": {},
          "execution_count": 69
        }
      ]
    },
    {
      "cell_type": "code",
      "source": [
        "torch.manual_seed(17)\n",
        "rand_tensor=torch.rand_like(starting_tensor)\n",
        "rand_tensor"
      ],
      "metadata": {
        "colab": {
          "base_uri": "https://localhost:8080/"
        },
        "id": "GSqm5AlHH0nn",
        "outputId": "733727d3-5454-416b-e2f6-b6ed5690f80a"
      },
      "execution_count": 70,
      "outputs": [
        {
          "output_type": "execute_result",
          "data": {
            "text/plain": [
              "tensor([[0.4342, 0.5351, 0.8302, 0.1239, 0.0293],\n",
              "        [0.5494, 0.3825, 0.5463, 0.4683, 0.0172]])"
            ]
          },
          "metadata": {},
          "execution_count": 70
        }
      ]
    },
    {
      "cell_type": "code",
      "source": [
        "torch.ones_like(rand_tensor)"
      ],
      "metadata": {
        "colab": {
          "base_uri": "https://localhost:8080/"
        },
        "id": "pmsS_uiuID3X",
        "outputId": "32019604-1af1-48ba-ff50-cd9483dec403"
      },
      "execution_count": 71,
      "outputs": [
        {
          "output_type": "execute_result",
          "data": {
            "text/plain": [
              "tensor([[1., 1., 1., 1., 1.],\n",
              "        [1., 1., 1., 1., 1.]])"
            ]
          },
          "metadata": {},
          "execution_count": 71
        }
      ]
    },
    {
      "cell_type": "code",
      "source": [
        "torch.full_like(starting_tensor,7)"
      ],
      "metadata": {
        "colab": {
          "base_uri": "https://localhost:8080/"
        },
        "id": "Bz3GIS_lIF9u",
        "outputId": "badcf248-e56d-439e-ed13-bc04ae2e9c2f"
      },
      "execution_count": 72,
      "outputs": [
        {
          "output_type": "execute_result",
          "data": {
            "text/plain": [
              "tensor([[7., 7., 7., 7., 7.],\n",
              "        [7., 7., 7., 7., 7.]])"
            ]
          },
          "metadata": {},
          "execution_count": 72
        }
      ]
    }
  ]
}